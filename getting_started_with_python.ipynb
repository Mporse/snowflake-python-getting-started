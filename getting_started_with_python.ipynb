{
 "cells": [
  {
   "cell_type": "markdown",
   "metadata": {},
   "source": [
    "# Getting Started With Snowflake - Quickstart"
   ]
  },
  {
   "cell_type": "markdown",
   "metadata": {},
   "source": [
    "This is the code used to complete the Snowflake Quickstart guide [Getting Started with Python](https://quickstarts.snowflake.com/guide/getting_started_with_python/index.html). It will be divided into the same sections as the guide online.  \n",
    "\n",
    "Before going through this guide, make sure that you have the proper Python version, snowflake-connector-python package, and any dependencies installed correctly. Also make sure that you have supplied your Snowflake account login credentials in a `files/creds.txt` file (you have to create the file yourself - name it properly and be sure that it contains the correct info, see the readme file for the repo for more details)."
   ]
  },
  {
   "cell_type": "markdown",
   "metadata": {},
   "source": [
    "## Test Your Installation\n",
    "Run the code below to make sure that you have set everything up correctly. It should output the version number of the Python Snowflake Connector.  \n",
    "You can also run the script directly from a terminal."
   ]
  },
  {
   "cell_type": "code",
   "execution_count": 6,
   "metadata": {
    "vscode": {
     "languageId": "shellscript"
    }
   },
   "outputs": [
    {
     "name": "stdout",
     "output_type": "stream",
     "text": [
      "/usr/lib/python3/dist-packages/secretstorage/dhcrypto.py:15: CryptographyDeprecationWarning: int_from_bytes is deprecated, use int.from_bytes instead\n",
      "  from cryptography.utils import int_from_bytes\n",
      "/usr/lib/python3/dist-packages/secretstorage/util.py:19: CryptographyDeprecationWarning: int_from_bytes is deprecated, use int.from_bytes instead\n",
      "  from cryptography.utils import int_from_bytes\n",
      "6.15.1\n"
     ]
    }
   ],
   "source": [
    "!python3 ./files/validate_installation.py"
   ]
  },
  {
   "cell_type": "markdown",
   "metadata": {},
   "source": [
    "## Connect to Snowflake\n",
    "Connect to Snowflake using the Snowflake Connector for Python."
   ]
  },
  {
   "cell_type": "code",
   "execution_count": 12,
   "metadata": {},
   "outputs": [],
   "source": [
    "# Import modules.\n",
    "import snowflake.connector\n",
    "import os.path as path\n",
    "\n",
    "# Get current working directory.\n",
    "file_dir = path.dirname(path.abspath(\"__file__\"))\n",
    "\n",
    "# Get credentials from creds.txt file.\n",
    "with open(f\"{file_dir}/files/creds.txt\", \"r\") as creds_file:\n",
    "    creds = [cred.strip() for cred in creds_file.readlines()]\n",
    "    creds = {cred.split(\"=\")[0]:cred.split(\"=\")[1] for cred in creds}\n",
    "\n",
    "# Connect to Snowflake.\n",
    "conn = snowflake.connector.connect(\n",
    "    user = creds[\"username\"],\n",
    "    password = creds[\"password\"],\n",
    "    account = creds[\"accountname\"]\n",
    "    )\n"
   ]
  },
  {
   "cell_type": "markdown",
   "metadata": {},
   "source": [
    "## Create a Warehouse"
   ]
  },
  {
   "cell_type": "code",
   "execution_count": 13,
   "metadata": {},
   "outputs": [
    {
     "data": {
      "text/plain": [
       "<snowflake.connector.cursor.SnowflakeCursor at 0x7f76a8b2b220>"
      ]
     },
     "execution_count": 13,
     "metadata": {},
     "output_type": "execute_result"
    }
   ],
   "source": [
    "# Create and use virtual warehouse (the USE query isn't necessary, as Snowflake automatically sets the newly create warehouse\n",
    "# to the active warehouse for the session, but if it already exists the USE query makes sure it's in use for the session).\n",
    "conn.cursor().execute(\"CREATE WAREHOUSE IF NOT EXISTS tiny_warehouse_mg\")\n",
    "conn.cursor().execute(\"USE WAREHOUSE tiny_warehouse_mg\")"
   ]
  },
  {
   "cell_type": "markdown",
   "metadata": {},
   "source": [
    "## Create a Database"
   ]
  },
  {
   "cell_type": "code",
   "execution_count": 14,
   "metadata": {},
   "outputs": [
    {
     "data": {
      "text/plain": [
       "<snowflake.connector.cursor.SnowflakeCursor at 0x7f76a8b2b0d0>"
      ]
     },
     "execution_count": 14,
     "metadata": {},
     "output_type": "execute_result"
    }
   ],
   "source": [
    "# Create a database using the previously selected warehouse (the USE query has the same purpose as before).\n",
    "conn.cursor().execute(\"CREATE DATABASE IF NOT EXISTS testdb\")\n",
    "conn.cursor().execute(\"USE DATABASE testdb\")"
   ]
  },
  {
   "cell_type": "markdown",
   "metadata": {},
   "source": [
    "## Create a Schema"
   ]
  },
  {
   "cell_type": "code",
   "execution_count": 15,
   "metadata": {},
   "outputs": [
    {
     "data": {
      "text/plain": [
       "<snowflake.connector.cursor.SnowflakeCursor at 0x7f76a89f3ac0>"
      ]
     },
     "execution_count": 15,
     "metadata": {},
     "output_type": "execute_result"
    }
   ],
   "source": [
    "# Create a schema inside the database, same as before regarding the USE query.\n",
    "conn.cursor().execute(\"CREATE SCHEMA IF NOT EXISTS testschema\")\n",
    "conn.cursor().execute(\"USE SCHEMA testschema\")"
   ]
  },
  {
   "cell_type": "markdown",
   "metadata": {},
   "source": [
    "## Create a Table"
   ]
  },
  {
   "cell_type": "code",
   "execution_count": 16,
   "metadata": {},
   "outputs": [
    {
     "data": {
      "text/plain": [
       "<snowflake.connector.cursor.SnowflakeCursor at 0x7f76a8b8a9d0>"
      ]
     },
     "execution_count": 16,
     "metadata": {},
     "output_type": "execute_result"
    }
   ],
   "source": [
    "# Create a table inside the selected schema.\n",
    "conn.cursor().execute(\"\"\"CREATE OR REPLACE TABLE test_table (\n",
    "    col1 integer,\n",
    "    col2 string\n",
    ")\"\"\")"
   ]
  },
  {
   "cell_type": "markdown",
   "metadata": {},
   "source": [
    "## Insert Data"
   ]
  },
  {
   "cell_type": "code",
   "execution_count": 18,
   "metadata": {},
   "outputs": [
    {
     "data": {
      "text/plain": [
       "<snowflake.connector.cursor.SnowflakeCursor at 0x7f769f92c100>"
      ]
     },
     "execution_count": 18,
     "metadata": {},
     "output_type": "execute_result"
    }
   ],
   "source": [
    "# Insert some data into the table.\n",
    "conn.cursor().execute(\"\"\"INSERT INTO test_table VALUES (\n",
    "    123,\n",
    "    'test string1'\n",
    "),\n",
    "(\n",
    "    456,\n",
    "    'test string2'\n",
    ")\"\"\")"
   ]
  },
  {
   "cell_type": "markdown",
   "metadata": {},
   "source": [
    "## Query Data"
   ]
  },
  {
   "cell_type": "code",
   "execution_count": 22,
   "metadata": {},
   "outputs": [
    {
     "name": "stdout",
     "output_type": "stream",
     "text": [
      "COL1: 123\tCOL2: test string1\n"
     ]
    }
   ],
   "source": [
    "# Query data from the table you just created and insert some date into (the query works the same as any of the other major)\n",
    "# SQL packages that allows you to interact with databases, e.g. sqlite and postgresql.\n",
    "col1, col2 = conn.cursor().execute(\"SELECT col1, col2 FROM test_table\").fetchone()\n",
    "print(f\"COL1: {col1}\\tCOL2: {col2}\")"
   ]
  },
  {
   "cell_type": "code",
   "execution_count": 27,
   "metadata": {},
   "outputs": [
    {
     "name": "stdout",
     "output_type": "stream",
     "text": [
      "COL1: 123\tCOL2: test string1\n",
      "COL1: 456\tCOL2: test string2\n"
     ]
    }
   ],
   "source": [
    "# You can print entire columns by doing the following.\n",
    "# NB: You can also add the \".fetchall()\" method at the end of the execute method, it gives the same result.\n",
    "for col1, col2 in conn.cursor().execute(\"SELECT col1, col2 FROM test_table\"):\n",
    "    print(f\"COL1: {col1}\\tCOL2: {col2}\")"
   ]
  },
  {
   "cell_type": "code",
   "execution_count": 29,
   "metadata": {},
   "outputs": [],
   "source": [
    "# Make sure to close the connection when you're done.\n",
    "conn.close()"
   ]
  },
  {
   "cell_type": "markdown",
   "metadata": {},
   "source": [
    "## Next Steps: Advanced Manipulation with Python\n",
    "By now you have a grasp on the basics of using the Python Connector. As you may have noticed, it leans heavily on already-established Snowflake SQL commands. Of course, this isn't all you can do with the Connector. Here are some potential next steps that may be of interest to you depending on your use case.  \n",
    "\n",
    "- [Bind Data](https://docs.snowflake.com/en/user-guide/python-connector-example.html#binding-data)\n",
    "- [Use Pandas Dataframes](https://docs.snowflake.com/en/user-guide/python-connector-pandas.html)\n",
    "- [Snowflake SQLAlchemy Toolkit](https://docs.snowflake.com/en/user-guide/sqlalchemy.html)"
   ]
  },
  {
   "cell_type": "markdown",
   "metadata": {},
   "source": []
  }
 ],
 "metadata": {
  "interpreter": {
   "hash": "31f2aee4e71d21fbe5cf8b01ff0e069b9275f58929596ceb00d14d90e3e16cd6"
  },
  "kernelspec": {
   "display_name": "Python 3.8.10 64-bit",
   "language": "python",
   "name": "python3"
  },
  "language_info": {
   "codemirror_mode": {
    "name": "ipython",
    "version": 3
   },
   "file_extension": ".py",
   "mimetype": "text/x-python",
   "name": "python",
   "nbconvert_exporter": "python",
   "pygments_lexer": "ipython3",
   "version": "3.8.10"
  },
  "orig_nbformat": 4
 },
 "nbformat": 4,
 "nbformat_minor": 2
}
